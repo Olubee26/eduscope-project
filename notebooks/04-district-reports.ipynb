{
 "cells": [
  {
   "cell_type": "code",
   "execution_count": null,
   "id": "a1d744aa",
   "metadata": {},
   "outputs": [],
   "source": [
    "# Avergae GCP per district\n",
    "# Number of at_risks students per district\n",
    "# Engagement rate per district\n",
    "\n",
    "\n",
    "# Extract District Information\n",
    "# 001 Washington District\n",
    "# 002 New York District\n",
    "\n",
    "# Create a table for districts\n",
    "#distric_id\n",
    "# district_name"
   ]
  }
 ],
 "metadata": {
  "language_info": {
   "name": "python"
  }
 },
 "nbformat": 4,
 "nbformat_minor": 5
}
